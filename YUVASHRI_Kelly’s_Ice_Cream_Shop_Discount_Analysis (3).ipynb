{
  "cells": [
    {
      "cell_type": "markdown",
      "metadata": {
        "id": "-AJQGEdSJN_c"
      },
      "source": [
        ". Kelly’s Ice Cream Shop Discount Analysis"
      ]
    },
    {
      "cell_type": "markdown",
      "metadata": {
        "id": "yuKQPJohDpB-"
      },
      "source": [
        "how discounts affects sales at an ice icream shop named kelly"
      ]
    },
    {
      "cell_type": "code",
      "execution_count": 10,
      "metadata": {
        "colab": {
          "base_uri": "https://localhost:8080/"
        },
        "id": "evq5dLnPJBYq",
        "outputId": "3685f4c3-0839-4e76-96ed-c281ea6871e6"
      },
      "outputs": [
        {
          "name": "stdout",
          "output_type": "stream",
          "text": [
            "    customer_id  transaction_id  amount\n",
            "0          1001          339473      89\n",
            "1          1002          359433       5\n",
            "2          1003           43176      52\n",
            "3          1004           27169      19\n",
            "4          1001          530588       4\n",
            "..          ...             ...     ...\n",
            "95         1001          900073      19\n",
            "96         1005          900074      58\n",
            "97         1004          900075      65\n",
            "98         1005          900076      43\n",
            "99         1003          900077      45\n",
            "\n",
            "[100 rows x 3 columns]\n"
          ]
        }
      ],
      "source": [
        "import pandas as pd\n",
        "a=pd.read_csv('E:/PYTHON/kellys_icecream_dataset.csv')\n",
        "print(a)"
      ]
    },
    {
      "cell_type": "code",
      "execution_count": 11,
      "metadata": {
        "colab": {
          "base_uri": "https://localhost:8080/"
        },
        "id": "DjZjt0VhNz7O",
        "outputId": "40d77fb8-baf0-49fd-a5c1-a852bd9e8b05"
      },
      "outputs": [
        {
          "name": "stdout",
          "output_type": "stream",
          "text": [
            "<class 'pandas.core.frame.DataFrame'>\n",
            "RangeIndex: 100 entries, 0 to 99\n",
            "Data columns (total 3 columns):\n",
            " #   Column          Non-Null Count  Dtype\n",
            "---  ------          --------------  -----\n",
            " 0   customer_id     100 non-null    int64\n",
            " 1   transaction_id  100 non-null    int64\n",
            " 2   amount          100 non-null    int64\n",
            "dtypes: int64(3)\n",
            "memory usage: 2.5 KB\n"
          ]
        }
      ],
      "source": [
        "a.info()"
      ]
    },
    {
      "cell_type": "markdown",
      "metadata": {
        "id": "98CR48V_PSCv"
      },
      "source": [
        "Display the first 10 rows of data."
      ]
    },
    {
      "cell_type": "code",
      "execution_count": null,
      "metadata": {
        "colab": {
          "base_uri": "https://localhost:8080/"
        },
        "id": "YmLtyuXDOFPw",
        "outputId": "0984ca02-f269-4ba3-ee97-3f1baa509519"
      },
      "outputs": [
        {
          "name": "stdout",
          "output_type": "stream",
          "text": [
            "   customer_id  transaction_id  amount\n",
            "0         1001          339473      89\n",
            "1         1002          359433       5\n",
            "2         1003           43176      52\n",
            "3         1004           27169      19\n",
            "4         1001          530588       4\n",
            "5         1004          528902      78\n",
            "6         1005          584167      72\n",
            "7         1003           55479      45\n",
            "8         1005          500607      98\n",
            "9         1004          544617      65\n"
          ]
        }
      ],
      "source": [
        "a.head(10)\n",
        "print(a.head(10))\n"
      ]
    },
    {
      "cell_type": "markdown",
      "metadata": {
        "id": "q9GKERXgPU9K"
      },
      "source": [
        "Show the shape, column names, and data types."
      ]
    },
    {
      "cell_type": "code",
      "execution_count": null,
      "metadata": {
        "colab": {
          "base_uri": "https://localhost:8080/"
        },
        "id": "CeAnENcnPY6X",
        "outputId": "168bdd9b-2fce-491c-c954-700837e4ef53"
      },
      "outputs": [
        {
          "name": "stdout",
          "output_type": "stream",
          "text": [
            "(100, 3)\n",
            "\n",
            "\n",
            "Index(['customer_id', 'transaction_id', 'amount'], dtype='object')\n",
            "\n",
            "\n",
            "customer_id       int64\n",
            "transaction_id    int64\n",
            "amount            int64\n",
            "dtype: object\n"
          ]
        }
      ],
      "source": [
        "print(a.shape)\n",
        "print('\\n')\n",
        "print(a.columns)\n",
        "print('\\n')\n",
        "print(a.dtypes)"
      ]
    },
    {
      "cell_type": "markdown",
      "metadata": {
        "id": "rpfiNY0yPxu1"
      },
      "source": [
        "Check for missing values and duplicates."
      ]
    },
    {
      "cell_type": "code",
      "execution_count": null,
      "metadata": {
        "colab": {
          "base_uri": "https://localhost:8080/"
        },
        "id": "FuuJ08YCP0Rr",
        "outputId": "cd40549e-f794-4d58-e5dd-159b94029a43"
      },
      "outputs": [
        {
          "name": "stdout",
          "output_type": "stream",
          "text": [
            "customer_id       0\n",
            "transaction_id    0\n",
            "amount            0\n",
            "dtype: int64\n"
          ]
        }
      ],
      "source": [
        "print(a.isnull().sum())"
      ]
    },
    {
      "cell_type": "code",
      "execution_count": null,
      "metadata": {
        "colab": {
          "base_uri": "https://localhost:8080/"
        },
        "id": "2xqsm53EQR-k",
        "outputId": "9202353e-169e-4333-db08-d119d75f4402"
      },
      "outputs": [
        {
          "name": "stdout",
          "output_type": "stream",
          "text": [
            "0\n"
          ]
        }
      ],
      "source": [
        "print(a.duplicated().sum())"
      ]
    },
    {
      "cell_type": "code",
      "execution_count": null,
      "metadata": {
        "id": "OsGmsty5Qd1U"
      },
      "outputs": [],
      "source": [
        "Use .describe() to get summary statistics for amount."
      ]
    },
    {
      "cell_type": "code",
      "execution_count": null,
      "metadata": {
        "colab": {
          "base_uri": "https://localhost:8080/",
          "height": 300
        },
        "id": "EzRJv9chQet4",
        "outputId": "04faad8a-c8f1-49a8-d417-ce8098da58f0"
      },
      "outputs": [
        {
          "data": {
            "application/vnd.google.colaboratory.intrinsic+json": {
              "summary": "{\n  \"name\": \"a\",\n  \"rows\": 8,\n  \"fields\": [\n    {\n      \"column\": \"customer_id\",\n      \"properties\": {\n        \"dtype\": \"number\",\n        \"std\": 441.67486514045436,\n        \"min\": 1.5168747775967175,\n        \"max\": 1005.0,\n        \"num_unique_values\": 7,\n        \"samples\": [\n          100.0,\n          1003.11,\n          1003.0\n        ],\n        \"semantic_type\": \"\",\n        \"description\": \"\"\n      }\n    },\n    {\n      \"column\": \"transaction_id\",\n      \"properties\": {\n        \"dtype\": \"number\",\n        \"std\": 415294.9664677106,\n        \"min\": 100.0,\n        \"max\": 900077.0,\n        \"num_unique_values\": 8,\n        \"samples\": [\n          781349.02,\n          900027.5,\n          100.0\n        ],\n        \"semantic_type\": \"\",\n        \"description\": \"\"\n      }\n    },\n    {\n      \"column\": \"amount\",\n      \"properties\": {\n        \"dtype\": \"number\",\n        \"std\": 33.79586443761999,\n        \"min\": 4.0,\n        \"max\": 100.0,\n        \"num_unique_values\": 8,\n        \"samples\": [\n          54.85,\n          52.0,\n          100.0\n        ],\n        \"semantic_type\": \"\",\n        \"description\": \"\"\n      }\n    }\n  ]\n}",
              "type": "dataframe"
            },
            "text/html": [
              "\n",
              "  <div id=\"df-d9fff466-f77f-41be-ab6e-c5165e5040a1\" class=\"colab-df-container\">\n",
              "    <div>\n",
              "<style scoped>\n",
              "    .dataframe tbody tr th:only-of-type {\n",
              "        vertical-align: middle;\n",
              "    }\n",
              "\n",
              "    .dataframe tbody tr th {\n",
              "        vertical-align: top;\n",
              "    }\n",
              "\n",
              "    .dataframe thead th {\n",
              "        text-align: right;\n",
              "    }\n",
              "</style>\n",
              "<table border=\"1\" class=\"dataframe\">\n",
              "  <thead>\n",
              "    <tr style=\"text-align: right;\">\n",
              "      <th></th>\n",
              "      <th>customer_id</th>\n",
              "      <th>transaction_id</th>\n",
              "      <th>amount</th>\n",
              "    </tr>\n",
              "  </thead>\n",
              "  <tbody>\n",
              "    <tr>\n",
              "      <th>count</th>\n",
              "      <td>100.000000</td>\n",
              "      <td>100.000000</td>\n",
              "      <td>100.000000</td>\n",
              "    </tr>\n",
              "    <tr>\n",
              "      <th>mean</th>\n",
              "      <td>1003.110000</td>\n",
              "      <td>781349.020000</td>\n",
              "      <td>54.850000</td>\n",
              "    </tr>\n",
              "    <tr>\n",
              "      <th>std</th>\n",
              "      <td>1.516875</td>\n",
              "      <td>240661.145129</td>\n",
              "      <td>27.635205</td>\n",
              "    </tr>\n",
              "    <tr>\n",
              "      <th>min</th>\n",
              "      <td>1001.000000</td>\n",
              "      <td>27169.000000</td>\n",
              "      <td>4.000000</td>\n",
              "    </tr>\n",
              "    <tr>\n",
              "      <th>25%</th>\n",
              "      <td>1002.000000</td>\n",
              "      <td>900002.750000</td>\n",
              "      <td>39.000000</td>\n",
              "    </tr>\n",
              "    <tr>\n",
              "      <th>50%</th>\n",
              "      <td>1003.000000</td>\n",
              "      <td>900027.500000</td>\n",
              "      <td>52.000000</td>\n",
              "    </tr>\n",
              "    <tr>\n",
              "      <th>75%</th>\n",
              "      <td>1005.000000</td>\n",
              "      <td>900052.250000</td>\n",
              "      <td>78.000000</td>\n",
              "    </tr>\n",
              "    <tr>\n",
              "      <th>max</th>\n",
              "      <td>1005.000000</td>\n",
              "      <td>900077.000000</td>\n",
              "      <td>98.000000</td>\n",
              "    </tr>\n",
              "  </tbody>\n",
              "</table>\n",
              "</div>\n",
              "    <div class=\"colab-df-buttons\">\n",
              "\n",
              "  <div class=\"colab-df-container\">\n",
              "    <button class=\"colab-df-convert\" onclick=\"convertToInteractive('df-d9fff466-f77f-41be-ab6e-c5165e5040a1')\"\n",
              "            title=\"Convert this dataframe to an interactive table.\"\n",
              "            style=\"display:none;\">\n",
              "\n",
              "  <svg xmlns=\"http://www.w3.org/2000/svg\" height=\"24px\" viewBox=\"0 -960 960 960\">\n",
              "    <path d=\"M120-120v-720h720v720H120Zm60-500h600v-160H180v160Zm220 220h160v-160H400v160Zm0 220h160v-160H400v160ZM180-400h160v-160H180v160Zm440 0h160v-160H620v160ZM180-180h160v-160H180v160Zm440 0h160v-160H620v160Z\"/>\n",
              "  </svg>\n",
              "    </button>\n",
              "\n",
              "  <style>\n",
              "    .colab-df-container {\n",
              "      display:flex;\n",
              "      gap: 12px;\n",
              "    }\n",
              "\n",
              "    .colab-df-convert {\n",
              "      background-color: #E8F0FE;\n",
              "      border: none;\n",
              "      border-radius: 50%;\n",
              "      cursor: pointer;\n",
              "      display: none;\n",
              "      fill: #1967D2;\n",
              "      height: 32px;\n",
              "      padding: 0 0 0 0;\n",
              "      width: 32px;\n",
              "    }\n",
              "\n",
              "    .colab-df-convert:hover {\n",
              "      background-color: #E2EBFA;\n",
              "      box-shadow: 0px 1px 2px rgba(60, 64, 67, 0.3), 0px 1px 3px 1px rgba(60, 64, 67, 0.15);\n",
              "      fill: #174EA6;\n",
              "    }\n",
              "\n",
              "    .colab-df-buttons div {\n",
              "      margin-bottom: 4px;\n",
              "    }\n",
              "\n",
              "    [theme=dark] .colab-df-convert {\n",
              "      background-color: #3B4455;\n",
              "      fill: #D2E3FC;\n",
              "    }\n",
              "\n",
              "    [theme=dark] .colab-df-convert:hover {\n",
              "      background-color: #434B5C;\n",
              "      box-shadow: 0px 1px 3px 1px rgba(0, 0, 0, 0.15);\n",
              "      filter: drop-shadow(0px 1px 2px rgba(0, 0, 0, 0.3));\n",
              "      fill: #FFFFFF;\n",
              "    }\n",
              "  </style>\n",
              "\n",
              "    <script>\n",
              "      const buttonEl =\n",
              "        document.querySelector('#df-d9fff466-f77f-41be-ab6e-c5165e5040a1 button.colab-df-convert');\n",
              "      buttonEl.style.display =\n",
              "        google.colab.kernel.accessAllowed ? 'block' : 'none';\n",
              "\n",
              "      async function convertToInteractive(key) {\n",
              "        const element = document.querySelector('#df-d9fff466-f77f-41be-ab6e-c5165e5040a1');\n",
              "        const dataTable =\n",
              "          await google.colab.kernel.invokeFunction('convertToInteractive',\n",
              "                                                    [key], {});\n",
              "        if (!dataTable) return;\n",
              "\n",
              "        const docLinkHtml = 'Like what you see? Visit the ' +\n",
              "          '<a target=\"_blank\" href=https://colab.research.google.com/notebooks/data_table.ipynb>data table notebook</a>'\n",
              "          + ' to learn more about interactive tables.';\n",
              "        element.innerHTML = '';\n",
              "        dataTable['output_type'] = 'display_data';\n",
              "        await google.colab.output.renderOutput(dataTable, element);\n",
              "        const docLink = document.createElement('div');\n",
              "        docLink.innerHTML = docLinkHtml;\n",
              "        element.appendChild(docLink);\n",
              "      }\n",
              "    </script>\n",
              "  </div>\n",
              "\n",
              "\n",
              "    <div id=\"df-331d3dbc-c87b-411e-a38c-2edde3d01586\">\n",
              "      <button class=\"colab-df-quickchart\" onclick=\"quickchart('df-331d3dbc-c87b-411e-a38c-2edde3d01586')\"\n",
              "                title=\"Suggest charts\"\n",
              "                style=\"display:none;\">\n",
              "\n",
              "<svg xmlns=\"http://www.w3.org/2000/svg\" height=\"24px\"viewBox=\"0 0 24 24\"\n",
              "     width=\"24px\">\n",
              "    <g>\n",
              "        <path d=\"M19 3H5c-1.1 0-2 .9-2 2v14c0 1.1.9 2 2 2h14c1.1 0 2-.9 2-2V5c0-1.1-.9-2-2-2zM9 17H7v-7h2v7zm4 0h-2V7h2v10zm4 0h-2v-4h2v4z\"/>\n",
              "    </g>\n",
              "</svg>\n",
              "      </button>\n",
              "\n",
              "<style>\n",
              "  .colab-df-quickchart {\n",
              "      --bg-color: #E8F0FE;\n",
              "      --fill-color: #1967D2;\n",
              "      --hover-bg-color: #E2EBFA;\n",
              "      --hover-fill-color: #174EA6;\n",
              "      --disabled-fill-color: #AAA;\n",
              "      --disabled-bg-color: #DDD;\n",
              "  }\n",
              "\n",
              "  [theme=dark] .colab-df-quickchart {\n",
              "      --bg-color: #3B4455;\n",
              "      --fill-color: #D2E3FC;\n",
              "      --hover-bg-color: #434B5C;\n",
              "      --hover-fill-color: #FFFFFF;\n",
              "      --disabled-bg-color: #3B4455;\n",
              "      --disabled-fill-color: #666;\n",
              "  }\n",
              "\n",
              "  .colab-df-quickchart {\n",
              "    background-color: var(--bg-color);\n",
              "    border: none;\n",
              "    border-radius: 50%;\n",
              "    cursor: pointer;\n",
              "    display: none;\n",
              "    fill: var(--fill-color);\n",
              "    height: 32px;\n",
              "    padding: 0;\n",
              "    width: 32px;\n",
              "  }\n",
              "\n",
              "  .colab-df-quickchart:hover {\n",
              "    background-color: var(--hover-bg-color);\n",
              "    box-shadow: 0 1px 2px rgba(60, 64, 67, 0.3), 0 1px 3px 1px rgba(60, 64, 67, 0.15);\n",
              "    fill: var(--button-hover-fill-color);\n",
              "  }\n",
              "\n",
              "  .colab-df-quickchart-complete:disabled,\n",
              "  .colab-df-quickchart-complete:disabled:hover {\n",
              "    background-color: var(--disabled-bg-color);\n",
              "    fill: var(--disabled-fill-color);\n",
              "    box-shadow: none;\n",
              "  }\n",
              "\n",
              "  .colab-df-spinner {\n",
              "    border: 2px solid var(--fill-color);\n",
              "    border-color: transparent;\n",
              "    border-bottom-color: var(--fill-color);\n",
              "    animation:\n",
              "      spin 1s steps(1) infinite;\n",
              "  }\n",
              "\n",
              "  @keyframes spin {\n",
              "    0% {\n",
              "      border-color: transparent;\n",
              "      border-bottom-color: var(--fill-color);\n",
              "      border-left-color: var(--fill-color);\n",
              "    }\n",
              "    20% {\n",
              "      border-color: transparent;\n",
              "      border-left-color: var(--fill-color);\n",
              "      border-top-color: var(--fill-color);\n",
              "    }\n",
              "    30% {\n",
              "      border-color: transparent;\n",
              "      border-left-color: var(--fill-color);\n",
              "      border-top-color: var(--fill-color);\n",
              "      border-right-color: var(--fill-color);\n",
              "    }\n",
              "    40% {\n",
              "      border-color: transparent;\n",
              "      border-right-color: var(--fill-color);\n",
              "      border-top-color: var(--fill-color);\n",
              "    }\n",
              "    60% {\n",
              "      border-color: transparent;\n",
              "      border-right-color: var(--fill-color);\n",
              "    }\n",
              "    80% {\n",
              "      border-color: transparent;\n",
              "      border-right-color: var(--fill-color);\n",
              "      border-bottom-color: var(--fill-color);\n",
              "    }\n",
              "    90% {\n",
              "      border-color: transparent;\n",
              "      border-bottom-color: var(--fill-color);\n",
              "    }\n",
              "  }\n",
              "</style>\n",
              "\n",
              "      <script>\n",
              "        async function quickchart(key) {\n",
              "          const quickchartButtonEl =\n",
              "            document.querySelector('#' + key + ' button');\n",
              "          quickchartButtonEl.disabled = true;  // To prevent multiple clicks.\n",
              "          quickchartButtonEl.classList.add('colab-df-spinner');\n",
              "          try {\n",
              "            const charts = await google.colab.kernel.invokeFunction(\n",
              "                'suggestCharts', [key], {});\n",
              "          } catch (error) {\n",
              "            console.error('Error during call to suggestCharts:', error);\n",
              "          }\n",
              "          quickchartButtonEl.classList.remove('colab-df-spinner');\n",
              "          quickchartButtonEl.classList.add('colab-df-quickchart-complete');\n",
              "        }\n",
              "        (() => {\n",
              "          let quickchartButtonEl =\n",
              "            document.querySelector('#df-331d3dbc-c87b-411e-a38c-2edde3d01586 button');\n",
              "          quickchartButtonEl.style.display =\n",
              "            google.colab.kernel.accessAllowed ? 'block' : 'none';\n",
              "        })();\n",
              "      </script>\n",
              "    </div>\n",
              "\n",
              "    </div>\n",
              "  </div>\n"
            ],
            "text/plain": [
              "       customer_id  transaction_id      amount\n",
              "count   100.000000      100.000000  100.000000\n",
              "mean   1003.110000   781349.020000   54.850000\n",
              "std       1.516875   240661.145129   27.635205\n",
              "min    1001.000000    27169.000000    4.000000\n",
              "25%    1002.000000   900002.750000   39.000000\n",
              "50%    1003.000000   900027.500000   52.000000\n",
              "75%    1005.000000   900052.250000   78.000000\n",
              "max    1005.000000   900077.000000   98.000000"
            ]
          },
          "execution_count": 13,
          "metadata": {},
          "output_type": "execute_result"
        }
      ],
      "source": [
        "a.describe()"
      ]
    },
    {
      "cell_type": "code",
      "execution_count": null,
      "metadata": {
        "id": "HQrOuolIQu8w"
      },
      "outputs": [],
      "source": [
        "Part 2 – EDA (Exploratory Data Analysis)"
      ]
    },
    {
      "cell_type": "markdown",
      "metadata": {
        "id": "RCsqAVjvQv0Y"
      },
      "source": [
        "Count the total number of transactions per customer"
      ]
    },
    {
      "cell_type": "code",
      "execution_count": null,
      "metadata": {
        "colab": {
          "base_uri": "https://localhost:8080/"
        },
        "id": "r25JlurCQyoK",
        "outputId": "d757f0ad-073b-4d23-f65a-53ad9f4e2858"
      },
      "outputs": [
        {
          "name": "stdout",
          "output_type": "stream",
          "text": [
            "   customer_id  transaction_id\n",
            "0         1001              22\n",
            "1         1002              17\n",
            "2         1003              15\n",
            "3         1004              20\n",
            "4         1005              26\n"
          ]
        }
      ],
      "source": [
        "transaction=a.groupby(\"customer_id\")[\"transaction_id\"].count().reset_index()\n",
        "print(transaction)"
      ]
    },
    {
      "cell_type": "markdown",
      "metadata": {
        "id": "qHUDkeZoShDG"
      },
      "source": [
        "Find the 3rd transaction for each customer based on transaction_id ordering."
      ]
    },
    {
      "cell_type": "code",
      "execution_count": null,
      "metadata": {
        "colab": {
          "base_uri": "https://localhost:8080/"
        },
        "id": "6J2MxQsWSjY1",
        "outputId": "02e5206b-c49a-4d0f-fa64-a29064f617a8"
      },
      "outputs": [
        {
          "name": "stdout",
          "output_type": "stream",
          "text": [
            "    customer_id  transaction_id  amount  discount_amount  transaction_number\n",
            "13         1001          225602      19               81                   1\n",
            "0          1001          339473      89               11                   2\n",
            "10         1001          374711      94                6                   3\n",
            "17         1001          445346      92                8                   4\n",
            "4          1001          530588       4               96                   5\n",
            "..          ...             ...     ...              ...                 ...\n",
            "77         1005          900055      78               22                  22\n",
            "84         1005          900062      43               57                  23\n",
            "93         1005          900071      43               57                  24\n",
            "96         1005          900074      58               42                  25\n",
            "98         1005          900076      43               57                  26\n",
            "\n",
            "[100 rows x 5 columns]\n",
            "\n",
            "\n",
            "    customer_id  transaction_id  amount  discount_amount  transaction_number\n",
            "10         1001          374711      94                6                   3\n",
            "15         1002          415562      50               50                   3\n",
            "20         1003          102487      39               61                   3\n",
            "5          1004          528902      78               22                   3\n",
            "8          1005          500607      98                2                   3\n"
          ]
        }
      ],
      "source": [
        "a_sort=a.sort_values([\"customer_id\", \"transaction_id\"])\n",
        "print(a_sort)\n",
        "print('\\n')\n",
        "third_transaction=a_sort.groupby(\"customer_id\").nth(2)\n",
        "print(third_transaction)"
      ]
    },
    {
      "cell_type": "markdown",
      "metadata": {
        "id": "g-39m-PebNPg"
      },
      "source": [
        "Identify customers who received the 33% discount."
      ]
    },
    {
      "cell_type": "code",
      "execution_count": null,
      "metadata": {
        "colab": {
          "base_uri": "https://localhost:8080/"
        },
        "id": "_dafg-B7b2Zi",
        "outputId": "1aaad21a-4908-47e3-9047-f2205a5abe2a"
      },
      "outputs": [
        {
          "name": "stdout",
          "output_type": "stream",
          "text": [
            "Empty DataFrame\n",
            "Columns: [customer_id, transaction_id, amount, original_price, discount]\n",
            "Index: []\n"
          ]
        }
      ],
      "source": [
        "a['original_price']=100\n",
        "a['discount']=a['original_price']-a['amount']\n",
        "discount=a[a['discount']==33]\n",
        "\n",
        "print(discount)"
      ]
    },
    {
      "cell_type": "markdown",
      "metadata": {
        "id": "-DleFotOemiQ"
      },
      "source": [
        "Plot a histogram of original purchase amounts for 3rd transactions."
      ]
    },
    {
      "cell_type": "code",
      "execution_count": 12,
      "metadata": {
        "colab": {
          "base_uri": "https://localhost:8080/",
          "height": 576
        },
        "id": "wiUREUPceoie",
        "outputId": "6fe8d1e4-15a1-45e9-9d90-77fda9bd64dc"
      },
      "outputs": [
        {
          "name": "stdout",
          "output_type": "stream",
          "text": [
            "    customer_id  transaction_id  amount\n",
            "9          1004          544617      65\n",
            "10         1001          374711      94\n",
            "12         1005          412764      43\n",
            "15         1002          415562      50\n",
            "20         1003          102487      39\n"
          ]
        },
        {
          "data": {
            "image/png": "[encoded data removed]",
            "text/plain": [
              "<Figure size 640x480 with 1 Axes>"
            ]
          },
          "metadata": {},
          "output_type": "display_data"
        }
      ],
      "source": [
        "import matplotlib.pyplot as plt\n",
        "\n",
        "third_transactions = a.groupby('customer_id').nth(2)\n",
        "print(third_transactions)\n",
        "\n",
        "plt.hist(third_transactions['amount'], bins=4, edgecolor='black')\n",
        "\n",
        "plt.xlabel('Original Purchase Amount')\n",
        "\n",
        "plt.ylabel('Frequency')\n",
        "\n",
        "plt.title('Histogram of Original Purchase Amounts for 3rd Transactions')\n",
        "plt.show()\n"
      ]
    },
    {
      "cell_type": "markdown",
      "metadata": {
        "id": "kGrPBgnoiEZ4"
      },
      "source": [
        "Plot a histogram of discounted amounts for 3rd transactions."
      ]
    },
    {
      "cell_type": "code",
      "execution_count": null,
      "metadata": {
        "colab": {
          "base_uri": "https://localhost:8080/",
          "height": 1000
        },
        "id": "cOnQt57EiGj3",
        "outputId": "92557f5f-8fcf-4022-e4b1-90ff899188d5"
      },
      "outputs": [
        {
          "name": "stdout",
          "output_type": "stream",
          "text": [
            "    customer_id  transaction_id  amount  discount_amount\n",
            "13         1001          225602      19               81\n",
            "0          1001          339473      89               11\n",
            "10         1001          374711      94                6\n",
            "17         1001          445346      92                8\n",
            "4          1001          530588       4               96\n",
            "..          ...             ...     ...              ...\n",
            "77         1005          900055      78               22\n",
            "84         1005          900062      43               57\n",
            "93         1005          900071      43               57\n",
            "96         1005          900074      58               42\n",
            "98         1005          900076      43               57\n",
            "\n",
            "[100 rows x 4 columns]\n",
            "    customer_id  transaction_id  amount  discount_amount  transaction_number\n",
            "13         1001          225602      19               81                   1\n",
            "0          1001          339473      89               11                   2\n",
            "10         1001          374711      94                6                   3\n",
            "17         1001          445346      92                8                   4\n",
            "4          1001          530588       4               96                   5\n",
            "..          ...             ...     ...              ...                 ...\n",
            "77         1005          900055      78               22                  22\n",
            "84         1005          900062      43               57                  23\n",
            "93         1005          900071      43               57                  24\n",
            "96         1005          900074      58               42                  25\n",
            "98         1005          900076      43               57                  26\n",
            "\n",
            "[100 rows x 5 columns]\n",
            "    customer_id  transaction_id  amount  discount_amount  transaction_number\n",
            "10         1001          374711      94                6                   3\n",
            "15         1002          415562      50               50                   3\n",
            "20         1003          102487      39               61                   3\n",
            "5          1004          528902      78               22                   3\n",
            "8          1005          500607      98                2                   3\n"
          ]
        },
        {
          "data": {
            "image/png": "[encoded data removed]",
            "text/plain": [
              "<Figure size 640x480 with 1 Axes>"
            ]
          },
          "metadata": {},
          "output_type": "display_data"
        }
      ],
      "source": [
        "import pandas as pd\n",
        "import matplotlib.pyplot as plt\n",
        "\n",
        "a=pd.read_csv(\"/content/kellys_icecream_dataset.csv\")\n",
        "a['discount_amount'] = 100 -a['amount']\n",
        "\n",
        "a= a.sort_values(['customer_id', 'transaction_id'])\n",
        "print(a.sort_values(['customer_id', 'transaction_id']))\n",
        "\n",
        "a['transaction_number'] = a.groupby('customer_id').cumcount() + 1\n",
        "print(a)\n",
        "\n",
        "third_transactions = a[a['transaction_number'] == 3]\n",
        "print(third_transactions)\n",
        "\n",
        "\n",
        "plt.hist(third_transactions['discount_amount'], bins=5, edgecolor='black')\n",
        "plt.xlabel('Discount Amount')\n",
        "plt.ylabel('Frequency')\n",
        "plt.title('Histogram of Discounted Amounts for 3rd Transactions')\n",
        "plt.show()"
      ]
    },
    {
      "cell_type": "markdown",
      "metadata": {
        "id": "P0zFBNtMTqnt"
      },
      "source": [
        "Part 3 – Statistics"
      ]
    },
    {
      "cell_type": "markdown",
      "metadata": {
        "id": "UT3IgJhxUrGX"
      },
      "source": [
        "Calculate the average amount for all transactions."
      ]
    },
    {
      "cell_type": "code",
      "execution_count": null,
      "metadata": {
        "colab": {
          "base_uri": "https://localhost:8080/"
        },
        "id": "_D17KSUGTupK",
        "outputId": "13185e4f-e845-4128-cb15-3eaef62d746c"
      },
      "outputs": [
        {
          "name": "stdout",
          "output_type": "stream",
          "text": [
            "54.85\n"
          ]
        }
      ],
      "source": [
        "avg=a[\"amount\"].mean()\n",
        "print(avg)"
      ]
    },
    {
      "cell_type": "markdown",
      "metadata": {
        "id": "Zqnsla-lU-zi"
      },
      "source": [
        "Calculate the average discounted_amount for 3rd transactions.\n"
      ]
    },
    {
      "cell_type": "code",
      "execution_count": null,
      "metadata": {
        "colab": {
          "base_uri": "https://localhost:8080/"
        },
        "id": "_-mlaVLMmsI1",
        "outputId": "94fdde3e-5adc-44d3-bf01-63f131de1051"
      },
      "outputs": [
        {
          "name": "stdout",
          "output_type": "stream",
          "text": [
            "28.2\n"
          ]
        }
      ],
      "source": [
        "avg= third_transactions['discount_amount'].mean()\n",
        "print(avg)\n"
      ]
    },
    {
      "cell_type": "markdown",
      "metadata": {
        "id": "BQQGWlPEoHAd"
      },
      "source": [
        "Probability: Pick a random transaction — what is the probability that it is a discounted 3rd purchase?\n",
        "\n",
        "\n"
      ]
    },
    {
      "cell_type": "code",
      "execution_count": null,
      "metadata": {
        "colab": {
          "base_uri": "https://localhost:8080/"
        },
        "id": "Xzu1xkmjoJhg",
        "outputId": "500c1343-2a0a-4965-a6f2-0a0821131640"
      },
      "outputs": [
        {
          "name": "stdout",
          "output_type": "stream",
          "text": [
            "0.05\n"
          ]
        }
      ],
      "source": [
        "pro=len(a[(a['transaction_number'] == 3) & (a['discount_amount'] > 0)]) / len(a)\n",
        "print(pro)\n"
      ]
    },
    {
      "cell_type": "code",
      "execution_count": null,
      "metadata": {
        "id": "mdoa_AZKU-ee"
      },
      "outputs": [],
      "source": [
        "Part 4 – Linear Algebra & NumPy"
      ]
    },
    {
      "cell_type": "markdown",
      "metadata": {
        "id": "uyXkC5Y1WydV"
      },
      "source": [
        "Represent amount as a NumPy array."
      ]
    },
    {
      "cell_type": "code",
      "execution_count": null,
      "metadata": {
        "colab": {
          "base_uri": "https://localhost:8080/"
        },
        "id": "FKm-Ko_BW1az",
        "outputId": "b92e0841-ab08-4592-9e92-8839adf6e4d0"
      },
      "outputs": [
        {
          "name": "stdout",
          "output_type": "stream",
          "text": [
            "[89  5 52 19  4 78 72 45 98 65 94 42 43 19 55 50 78 92 30 91 39 58 78 72\n",
            " 58 43 78  4 39 30 52 94 43 43 39 94 50 78 30 52 30 50 19 78 78 55 19 89\n",
            " 45 91 45 92  5 72 19 55 52 19 78 98 42  5 78 45 89 50 98 45 78 94 89 43\n",
            " 43 39 55 55 78 78 91 89 19 92 92 65 43 89 19  4 39 30  5 92 50 43  5 19\n",
            " 58 65 43 45]\n"
          ]
        }
      ],
      "source": [
        "import numpy as np\n",
        "a=pd.read_csv(\"/content/kellys_icecream_dataset.csv\")\n",
        "amount=a[\"amount\"].to_numpy()\n",
        "print(amount)\n"
      ]
    },
    {
      "cell_type": "markdown",
      "metadata": {
        "id": "5zfMmiSS3QDP"
      },
      "source": [
        "Create a discount vector (0.33 applied only to 3rd purchases, else 0)."
      ]
    },
    {
      "cell_type": "code",
      "execution_count": null,
      "metadata": {
        "colab": {
          "base_uri": "https://localhost:8080/"
        },
        "id": "zr8U4UYgZgrv",
        "outputId": "3f3689d8-dc7a-466a-d207-a7d89dd5567c"
      },
      "outputs": [
        {
          "name": "stdout",
          "output_type": "stream",
          "text": [
            "    customer_id  transaction_number  discount_vector\n",
            "13         1001                   1             0.00\n",
            "0          1001                   2             0.00\n",
            "10         1001                   3             0.33\n",
            "17         1001                   4             0.00\n",
            "4          1001                   5             0.00\n",
            "..          ...                 ...              ...\n",
            "77         1005                  22             0.00\n",
            "84         1005                  23             0.00\n",
            "93         1005                  24             0.00\n",
            "96         1005                  25             0.00\n",
            "98         1005                  26             0.00\n",
            "\n",
            "[100 rows x 3 columns]\n"
          ]
        }
      ],
      "source": [
        "import pandas as pd\n",
        "a=a.sort_values(['customer_id', 'transaction_id'])\n",
        "\n",
        "a['transaction_number'] =a.groupby('customer_id').cumcount() + 1\n",
        "\n",
        "a['discount_vector'] = (a['transaction_number'] == 3) * 0.33\n",
        "\n",
        "print(a[['customer_id', 'transaction_number', 'discount_vector']])\n",
        "\n",
        "\n"
      ]
    },
    {
      "cell_type": "markdown",
      "metadata": {
        "id": "4WeuOQGbqIqD"
      },
      "source": [
        "Perform element-wise multiplication to compute discounts."
      ]
    },
    {
      "cell_type": "code",
      "execution_count": null,
      "metadata": {
        "colab": {
          "base_uri": "https://localhost:8080/"
        },
        "id": "aa8lDxG6qLF_",
        "outputId": "82960be4-9b3b-49ed-c003-7a7829684d4f"
      },
      "outputs": [
        {
          "name": "stdout",
          "output_type": "stream",
          "text": [
            "    customer_id  transaction_number  amount  discount_vector  discount_amount\n",
            "13         1001                   1      19             0.00             0.00\n",
            "0          1001                   2      89             0.00             0.00\n",
            "10         1001                   3      94             0.33            31.02\n",
            "17         1001                   4      92             0.00             0.00\n",
            "4          1001                   5       4             0.00             0.00\n",
            "..          ...                 ...     ...              ...              ...\n",
            "77         1005                  22      78             0.00             0.00\n",
            "84         1005                  23      43             0.00             0.00\n",
            "93         1005                  24      43             0.00             0.00\n",
            "96         1005                  25      58             0.00             0.00\n",
            "98         1005                  26      43             0.00             0.00\n",
            "\n",
            "[100 rows x 5 columns]\n"
          ]
        }
      ],
      "source": [
        "import pandas as pd\n",
        "a= a.sort_values(['customer_id', 'transaction_id'])\n",
        "a['transaction_number'] = a.groupby('customer_id').cumcount() + 1\n",
        "\n",
        "a['discount_amount'] = a['amount'] * a['discount_vector']\n",
        "\n",
        "print(a[['customer_id', 'transaction_number', 'amount', 'discount_vector', 'discount_amount']])\n"
      ]
    },
    {
      "cell_type": "markdown",
      "metadata": {
        "id": "MheDts5ssHcm"
      },
      "source": [
        "Compute the total discount given across all customers (dot product)."
      ]
    },
    {
      "cell_type": "code",
      "execution_count": null,
      "metadata": {
        "colab": {
          "base_uri": "https://localhost:8080/"
        },
        "id": "zfDGQIe5r8UL",
        "outputId": "3065383a-bb5e-4c13-d6d6-f7cda0f51c54"
      },
      "outputs": [
        {
          "name": "stdout",
          "output_type": "stream",
          "text": [
            "118.47000000000003\n"
          ]
        }
      ],
      "source": [
        "import numpy as np\n",
        "total_discount = a['amount'].dot(a['discount_vector'])\n",
        "print(total_discount)"
      ]
    },
    {
      "cell_type": "markdown",
      "metadata": {
        "id": "Q5giIir6taZS"
      },
      "source": [
        "Perform weighted sum using [0.67, 0.33] for non-discounted and discounted transactions."
      ]
    },
    {
      "cell_type": "code",
      "execution_count": null,
      "metadata": {
        "colab": {
          "base_uri": "https://localhost:8080/"
        },
        "id": "Q1Mo8qpftbVH",
        "outputId": "a7bed69c-f8f5-4c5c-ce81-ff64826969ef"
      },
      "outputs": [
        {
          "name": "stdout",
          "output_type": "stream",
          "text": [
            "    customer_id  transaction_id  amount  discount_amount  transaction_number  \\\n",
            "13         1001          225602      19             0.00                   1   \n",
            "0          1001          339473      89             0.00                   2   \n",
            "10         1001          374711      94            31.02                   3   \n",
            "17         1001          445346      92             0.00                   4   \n",
            "4          1001          530588       4             0.00                   5   \n",
            "..          ...             ...     ...              ...                 ...   \n",
            "77         1005          900055      78             0.00                  22   \n",
            "84         1005          900062      43             0.00                  23   \n",
            "93         1005          900071      43             0.00                  24   \n",
            "96         1005          900074      58             0.00                  25   \n",
            "98         1005          900076      43             0.00                  26   \n",
            "\n",
            "    discount_vector  \n",
            "13             0.00  \n",
            "0              0.00  \n",
            "10             0.33  \n",
            "17             0.00  \n",
            "4              0.00  \n",
            "..              ...  \n",
            "77             0.00  \n",
            "84             0.00  \n",
            "93             0.00  \n",
            "96             0.00  \n",
            "98             0.00  \n",
            "\n",
            "[100 rows x 6 columns]\n",
            "13    0.67\n",
            "0     0.67\n",
            "10    0.33\n",
            "17    0.67\n",
            "4     0.67\n",
            "      ... \n",
            "77    0.67\n",
            "84    0.67\n",
            "93    0.67\n",
            "96    0.67\n",
            "98    0.67\n",
            "Name: transaction_number, Length: 100, dtype: float64\n",
            "\n",
            "\n",
            "Weighted sum: 3552.8900000000003\n"
          ]
        }
      ],
      "source": [
        "import pandas as pd\n",
        "\n",
        "a['transaction_number'] =a.groupby('customer_id').cumcount() + 1\n",
        "print(a)\n",
        "\n",
        "# Assign weights: 0.33 if 3rd transaction, else 0.67\n",
        "weights =a['transaction_number'].apply(lambda x: 0.33 if x == 3 else 0.67)\n",
        "print(weights)\n",
        "print('\\n')\n",
        "\n",
        "\n",
        "weighted_sum = (a['amount'] * weights).sum()\n",
        "\n",
        "print(\"Weighted sum:\", weighted_sum)"
      ]
    },
    {
      "cell_type": "markdown",
      "metadata": {
        "id": "niR6ecjMuQDD"
      },
      "source": [
        "Part 5 – Calculus"
      ]
    },
    {
      "cell_type": "markdown",
      "metadata": {
        "id": "oMABP_PuuRXO"
      },
      "source": [
        " Find the derivative of Discounted_Amount with respect to Amount (use SymPy).\n"
      ]
    },
    {
      "cell_type": "code",
      "execution_count": null,
      "metadata": {
        "colab": {
          "base_uri": "https://localhost:8080/"
        },
        "id": "24llykjRuQ9s",
        "outputId": "c26851d1-4ada-49f9-ce34-aa411b8f8088"
      },
      "outputs": [
        {
          "name": "stdout",
          "output_type": "stream",
          "text": [
            "amount*(1 - discount_vector)\n",
            "1 - discount_vector\n"
          ]
        }
      ],
      "source": [
        "import sympy as sp\n",
        "\n",
        "amount, discount_vector = sp.symbols('amount discount_vector')\n",
        "\n",
        "discount_amount = amount * (1 - discount_vector)\n",
        "print(discount_amount)\n",
        "\n",
        "derivative = sp.diff(discount_amount, amount)\n",
        "print(derivative)\n",
        "\n"
      ]
    },
    {
      "cell_type": "markdown",
      "metadata": {
        "id": "fOMH34FLOMD1"
      },
      "source": [
        "Interpret the derivative in the context of the problem."
      ]
    },
    {
      "cell_type": "code",
      "execution_count": null,
      "metadata": {
        "colab": {
          "base_uri": "https://localhost:8080/"
        },
        "id": "QsCZzhEVvz-4",
        "outputId": "2b315c5a-4d40-4f53-962b-a59cd8b2c903"
      },
      "outputs": [
        {
          "name": "stdout",
          "output_type": "stream",
          "text": [
            "amount*(1 - discount_vector)\n",
            "1 - discount_rate\n",
            "-amount\n"
          ]
        }
      ],
      "source": [
        "import sympy as sp\n",
        "\n",
        "amount, discount_rate = sp.symbols('amount discount_rate')\n",
        "\n",
        "discounted_amount = amount * (1 - discount_rate)\n",
        "print(discount_amount)\n",
        "\n",
        "derivative_amount = sp.diff(discounted_amount, amount)\n",
        "print(derivative_amount)\n",
        "\n",
        "# Derivative of discounted amount w.r.t. discount rate\n",
        "derivative_discount_rate = sp.diff(discounted_amount, discount_rate)\n",
        "print(derivative_discount_rate)\n",
        "\n"
      ]
    },
    {
      "cell_type": "markdown",
      "metadata": {
        "id": "cEpVt-qnwtnP"
      },
      "source": [
        "Part 6 – Feature Engineering"
      ]
    },
    {
      "cell_type": "markdown",
      "metadata": {
        "id": "yKsQqcq6wuVe"
      },
      "source": [
        "Create a new column Transaction_Rank (purchase number per customer)."
      ]
    },
    {
      "cell_type": "code",
      "execution_count": null,
      "metadata": {
        "colab": {
          "base_uri": "https://localhost:8080/"
        },
        "id": "Ul_XPAzwwxVZ",
        "outputId": "0bcb47f8-2699-4f6e-ce8a-5e97aa683379"
      },
      "outputs": [
        {
          "name": "stdout",
          "output_type": "stream",
          "text": [
            "    customer_id  transaction_id  amount\n",
            "0          1001          339473      89\n",
            "1          1002          359433       5\n",
            "2          1003           43176      52\n",
            "3          1004           27169      19\n",
            "4          1001          530588       4\n",
            "..          ...             ...     ...\n",
            "95         1001          900073      19\n",
            "96         1005          900074      58\n",
            "97         1004          900075      65\n",
            "98         1005          900076      43\n",
            "99         1003          900077      45\n",
            "\n",
            "[100 rows x 3 columns]\n"
          ]
        }
      ],
      "source": [
        "import pandas as pd\n",
        "a=pd.read_csv('/content/kellys_icecream_dataset.csv')\n",
        "print(a)\n",
        "\n"
      ]
    },
    {
      "cell_type": "code",
      "execution_count": null,
      "metadata": {
        "colab": {
          "base_uri": "https://localhost:8080/"
        },
        "id": "jpuzFTfBxYGp",
        "outputId": "f6ee8767-58fa-47de-8952-3e420b0dac97"
      },
      "outputs": [
        {
          "name": "stdout",
          "output_type": "stream",
          "text": [
            "    customer_id  transaction_id  amount  Transaction_Rank\n",
            "13         1001          225602      19                 1\n",
            "0          1001          339473      89                 2\n",
            "10         1001          374711      94                 3\n",
            "17         1001          445346      92                 4\n",
            "4          1001          530588       4                 5\n",
            "..          ...             ...     ...               ...\n",
            "77         1005          900055      78                22\n",
            "84         1005          900062      43                23\n",
            "93         1005          900071      43                24\n",
            "96         1005          900074      58                25\n",
            "98         1005          900076      43                26\n",
            "\n",
            "[100 rows x 4 columns]\n",
            "    customer_id  transaction_id  amount  Transaction_Rank\n",
            "13         1001          225602      19                 1\n",
            "0          1001          339473      89                 2\n",
            "10         1001          374711      94                 3\n",
            "17         1001          445346      92                 4\n",
            "4          1001          530588       4                 5\n",
            "..          ...             ...     ...               ...\n",
            "77         1005          900055      78                22\n",
            "84         1005          900062      43                23\n",
            "93         1005          900071      43                24\n",
            "96         1005          900074      58                25\n",
            "98         1005          900076      43                26\n",
            "\n",
            "[100 rows x 4 columns]\n"
          ]
        }
      ],
      "source": [
        "a=a.sort_values(['customer_id', 'transaction_id'])\n",
        "print(a)\n",
        "a['Transaction_Rank'] = a.groupby('customer_id').cumcount() + 1\n",
        "print(a)"
      ]
    },
    {
      "cell_type": "markdown",
      "metadata": {
        "id": "ZeEgH8Udx0OU"
      },
      "source": [
        "Create Discount_Applied column (1 if it’s the 3rd purchase, else 0).\n"
      ]
    },
    {
      "cell_type": "code",
      "execution_count": null,
      "metadata": {
        "colab": {
          "base_uri": "https://localhost:8080/"
        },
        "id": "7xYWHdOYx3GK",
        "outputId": "965c1d28-1bc7-4638-8b27-903f739b9484"
      },
      "outputs": [
        {
          "name": "stdout",
          "output_type": "stream",
          "text": [
            "    customer_id  transaction_id  amount  Transaction_Rank  Discount_Applied\n",
            "13         1001          225602      19                 1                 0\n",
            "0          1001          339473      89                 2                 0\n",
            "10         1001          374711      94                 3                 1\n",
            "17         1001          445346      92                 4                 0\n",
            "4          1001          530588       4                 5                 0\n",
            "..          ...             ...     ...               ...               ...\n",
            "77         1005          900055      78                22                 0\n",
            "84         1005          900062      43                23                 0\n",
            "93         1005          900071      43                24                 0\n",
            "96         1005          900074      58                25                 0\n",
            "98         1005          900076      43                26                 0\n",
            "\n",
            "[100 rows x 5 columns]\n"
          ]
        }
      ],
      "source": [
        "a['Discount_Applied'] = (a['Transaction_Rank'] == 3).astype(int)\n",
        "print(a)"
      ]
    },
    {
      "cell_type": "markdown",
      "metadata": {
        "id": "m6iBexlHyENt"
      },
      "source": [
        "Create Discounted_Amount column (apply 33% discount for 3rd purchases)."
      ]
    },
    {
      "cell_type": "code",
      "execution_count": null,
      "metadata": {
        "colab": {
          "base_uri": "https://localhost:8080/"
        },
        "id": "tq68vkm9yXP0",
        "outputId": "5a8176b4-0ba6-4e54-a222-ea2f4ca561f3"
      },
      "outputs": [
        {
          "name": "stdout",
          "output_type": "stream",
          "text": [
            "    customer_id  transaction_id  amount  Transaction_Rank  Discount_Applied  \\\n",
            "13         1001          225602      19                 1                 0   \n",
            "0          1001          339473      89                 2                 0   \n",
            "10         1001          374711      94                 3                 1   \n",
            "17         1001          445346      92                 4                 0   \n",
            "4          1001          530588       4                 5                 0   \n",
            "..          ...             ...     ...               ...               ...   \n",
            "77         1005          900055      78                22                 0   \n",
            "84         1005          900062      43                23                 0   \n",
            "93         1005          900071      43                24                 0   \n",
            "96         1005          900074      58                25                 0   \n",
            "98         1005          900076      43                26                 0   \n",
            "\n",
            "    Discounted_Amount  \n",
            "13              19.00  \n",
            "0               89.00  \n",
            "10              62.98  \n",
            "17              92.00  \n",
            "4                4.00  \n",
            "..                ...  \n",
            "77              78.00  \n",
            "84              43.00  \n",
            "93              43.00  \n",
            "96              58.00  \n",
            "98              43.00  \n",
            "\n",
            "[100 rows x 6 columns]\n"
          ]
        }
      ],
      "source": [
        "a['Discounted_Amount'] =a['amount'] * (1 - 0.33 * (a['Transaction_Rank'] == 3))\n",
        "print(a)"
      ]
    },
    {
      "cell_type": "markdown",
      "metadata": {
        "id": "p2jkT0UKytpC"
      },
      "source": [
        "df['Transaction_Rank'] == 3) → gives True for 3rd purchases, else False.\n",
        "\n",
        "0.33 * (df['Transaction_Rank'] == 3) → makes it 0.33 for 3rd purchases, else 0.\n",
        "\n",
        "1 - ... → adjusts the multiplier.\n",
        "\n",
        "Multiplying by df['amount'] gives the discounted price only for 3rd transactions\n",
        "For 3rd purchase: 1 - 0.33 * 1 = 0.67 (you pay 67% of the original amount).\n",
        "\n",
        "For others: 1 - 0.33 * 0 = 1 (you pay 100% of the original amount)."
      ]
    },
    {
      "cell_type": "code",
      "execution_count": null,
      "metadata": {
        "id": "nHDipK7YyzXp"
      },
      "outputs": [],
      "source": [
        "Create Savings column = amount - discounted_amount."
      ]
    },
    {
      "cell_type": "code",
      "execution_count": null,
      "metadata": {
        "colab": {
          "base_uri": "https://localhost:8080/"
        },
        "id": "yIVLmSmuy2lO",
        "outputId": "0b7435c2-32f2-496d-932f-f51833c44bd9"
      },
      "outputs": [
        {
          "name": "stdout",
          "output_type": "stream",
          "text": [
            "    customer_id  transaction_id  amount  Transaction_Rank  Discount_Applied  \\\n",
            "13         1001          225602      19                 1                 0   \n",
            "0          1001          339473      89                 2                 0   \n",
            "10         1001          374711      94                 3                 1   \n",
            "17         1001          445346      92                 4                 0   \n",
            "4          1001          530588       4                 5                 0   \n",
            "..          ...             ...     ...               ...               ...   \n",
            "77         1005          900055      78                22                 0   \n",
            "84         1005          900062      43                23                 0   \n",
            "93         1005          900071      43                24                 0   \n",
            "96         1005          900074      58                25                 0   \n",
            "98         1005          900076      43                26                 0   \n",
            "\n",
            "    Discounted_Amount  Savings  \n",
            "13              19.00     0.00  \n",
            "0               89.00     0.00  \n",
            "10              62.98    31.02  \n",
            "17              92.00     0.00  \n",
            "4                4.00     0.00  \n",
            "..                ...      ...  \n",
            "77              78.00     0.00  \n",
            "84              43.00     0.00  \n",
            "93              43.00     0.00  \n",
            "96              58.00     0.00  \n",
            "98              43.00     0.00  \n",
            "\n",
            "[100 rows x 7 columns]\n"
          ]
        }
      ],
      "source": [
        "a['Savings'] =a['amount'] -a['Discounted_Amount']\n",
        "print(a)"
      ]
    },
    {
      "cell_type": "code",
      "execution_count": null,
      "metadata": {
        "id": "X4JQGvG8zPpY"
      },
      "outputs": [],
      "source": [
        "Part 7 – SQL Simulation in Pandas"
      ]
    },
    {
      "cell_type": "markdown",
      "metadata": {
        "id": "1uI18BZCzStv"
      },
      "source": [
        "Select only rows where Discount_Applied = 1."
      ]
    },
    {
      "cell_type": "code",
      "execution_count": null,
      "metadata": {
        "colab": {
          "base_uri": "https://localhost:8080/"
        },
        "id": "Qa8_t_I3zVUZ",
        "outputId": "20f40615-47cb-47fd-f568-1ca4ef0e99b6"
      },
      "outputs": [
        {
          "name": "stdout",
          "output_type": "stream",
          "text": [
            "    customer_id  transaction_id  amount  Transaction_Rank  Discount_Applied  \\\n",
            "10         1001          374711      94                 3                 1   \n",
            "15         1002          415562      50                 3                 1   \n",
            "20         1003          102487      39                 3                 1   \n",
            "5          1004          528902      78                 3                 1   \n",
            "8          1005          500607      98                 3                 1   \n",
            "\n",
            "    Discounted_Amount  Savings  \n",
            "10              62.98    31.02  \n",
            "15              33.50    16.50  \n",
            "20              26.13    12.87  \n",
            "5               52.26    25.74  \n",
            "8               65.66    32.34  \n"
          ]
        }
      ],
      "source": [
        "discounted_rows = a[a['Discount_Applied'] == 1]\n",
        "print(discounted_rows)\n"
      ]
    },
    {
      "cell_type": "markdown",
      "metadata": {
        "id": "5Rochl29zh5T"
      },
      "source": [
        "Output columns: customer_id, transaction_id, amount, discounted_amount.\n"
      ]
    },
    {
      "cell_type": "code",
      "execution_count": null,
      "metadata": {
        "colab": {
          "base_uri": "https://localhost:8080/"
        },
        "id": "OulEeP7vzq5W",
        "outputId": "b0b4fb00-bceb-48ec-cba4-9961659d4c71"
      },
      "outputs": [
        {
          "name": "stdout",
          "output_type": "stream",
          "text": [
            "    customer_id  transaction_id  amount  Discounted_Amount\n",
            "10         1001          374711      94              62.98\n",
            "15         1002          415562      50              33.50\n",
            "20         1003          102487      39              26.13\n",
            "5          1004          528902      78              52.26\n",
            "8          1005          500607      98              65.66\n"
          ]
        }
      ],
      "source": [
        "discounted_rows = a[a['Discount_Applied'] == 1][['customer_id', 'transaction_id', 'amount', 'Discounted_Amount']]\n",
        "print(discounted_rows)"
      ]
    },
    {
      "cell_type": "markdown",
      "metadata": {
        "id": "o3ghmj8Qz2xX"
      },
      "source": [
        "\n",
        "\n",
        "Sort by customer_id ascending"
      ]
    },
    {
      "cell_type": "code",
      "execution_count": null,
      "metadata": {
        "colab": {
          "base_uri": "https://localhost:8080/"
        },
        "id": "W97eOpo7z65B",
        "outputId": "69bc14bd-eac3-4405-969f-f8076fa97903"
      },
      "outputs": [
        {
          "name": "stdout",
          "output_type": "stream",
          "text": [
            "    customer_id  transaction_id  amount  Discounted_Amount\n",
            "10         1001          374711      94              62.98\n",
            "15         1002          415562      50              33.50\n",
            "20         1003          102487      39              26.13\n",
            "5          1004          528902      78              52.26\n",
            "8          1005          500607      98              65.66\n"
          ]
        }
      ],
      "source": [
        "discounted_rows = a[a['Discount_Applied'] == 1][['customer_id', 'transaction_id', 'amount', 'Discounted_Amount']].sort_values(by='customer_id', ascending=True)\n",
        "\n",
        "print(discounted_rows)\n",
        "\n"
      ]
    },
    {
      "cell_type": "markdown",
      "metadata": {
        "id": "-_kyo9Fj0K8O"
      },
      "source": [
        "Part 8 – Insights\n"
      ]
    },
    {
      "cell_type": "markdown",
      "metadata": {
        "id": "IHp-rCcG0OGp"
      },
      "source": [
        "Which customer received the largest discount?\n"
      ]
    },
    {
      "cell_type": "code",
      "execution_count": null,
      "metadata": {
        "colab": {
          "base_uri": "https://localhost:8080/"
        },
        "id": "GKcMG8UT0YTr",
        "outputId": "f7815a98-824b-42e8-e707-5ba571b52cbc"
      },
      "outputs": [
        {
          "name": "stdout",
          "output_type": "stream",
          "text": [
            "1005\n"
          ]
        }
      ],
      "source": [
        "largest = a.loc[a['Savings'].idxmax(), 'customer_id']\n",
        "print(largest)\n"
      ]
    },
    {
      "cell_type": "markdown",
      "metadata": {
        "id": "oRY6nurv0g-G"
      },
      "source": [
        "What is the total amount Kelly discounted across all customers?\n"
      ]
    },
    {
      "cell_type": "code",
      "execution_count": null,
      "metadata": {
        "colab": {
          "base_uri": "https://localhost:8080/"
        },
        "id": "07yBSD6L0aU7",
        "outputId": "cbd6267d-769d-4df5-f9b2-aff0174a0b46"
      },
      "outputs": [
        {
          "name": "stdout",
          "output_type": "stream",
          "text": [
            "118.47000000000003\n"
          ]
        }
      ],
      "source": [
        "total_discount =a['Savings'].sum()\n",
        "print( total_discount)\n"
      ]
    },
    {
      "cell_type": "markdown",
      "metadata": {
        "id": "Ei3nRDlR0q3Z"
      },
      "source": [
        "What is the average saving per customer?"
      ]
    },
    {
      "cell_type": "code",
      "execution_count": null,
      "metadata": {
        "colab": {
          "base_uri": "https://localhost:8080/"
        },
        "id": "-S3oY28z0trV",
        "outputId": "6460ff41-acd3-45b9-cfd0-d9462214829b"
      },
      "outputs": [
        {
          "name": "stdout",
          "output_type": "stream",
          "text": [
            "23.694000000000006\n"
          ]
        }
      ],
      "source": [
        "avg = a.groupby('customer_id')['Savings'].sum().mean()\n",
        "print(avg)\n"
      ]
    },
    {
      "cell_type": "markdown",
      "metadata": {
        "id": "Xw0cS97a05Eb"
      },
      "source": [
        "Which customers spent the most after the discount?"
      ]
    },
    {
      "cell_type": "code",
      "execution_count": null,
      "metadata": {
        "colab": {
          "base_uri": "https://localhost:8080/"
        },
        "id": "_A81l0OK1DmX",
        "outputId": "cc378823-0954-47b9-9429-a1148b545433"
      },
      "outputs": [
        {
          "name": "stdout",
          "output_type": "stream",
          "text": [
            "customer_id\n",
            "1005    1662.66\n",
            "1001    1426.98\n",
            "1004    1124.26\n",
            "1003     660.13\n",
            "1002     492.50\n",
            "Name: Discounted_Amount, dtype: float64\n"
          ]
        }
      ],
      "source": [
        "top = (a.groupby('customer_id')['Discounted_Amount'].sum().sort_values(ascending=False))\n",
        "print(top)\n"
      ]
    },
    {
      "cell_type": "markdown",
      "metadata": {
        "id": "IET2e3sQUY7j"
      },
      "source": [
        "extra analysis"
      ]
    },
    {
      "cell_type": "code",
      "execution_count": null,
      "metadata": {
        "id": "csuYZ4B2UgCd"
      },
      "outputs": [],
      "source": [
        "Which customer made the highest total purchases before discounts?"
      ]
    },
    {
      "cell_type": "code",
      "execution_count": null,
      "metadata": {
        "colab": {
          "base_uri": "https://localhost:8080/"
        },
        "id": "bGxsGQkHcdKp",
        "outputId": "33f6e03e-1236-4aee-bbca-52378af31f23"
      },
      "outputs": [
        {
          "name": "stdout",
          "output_type": "stream",
          "text": [
            "The customer highest total purchases before discounts is customer ID 1005 with a total amount of 2600.\n"
          ]
        }
      ],
      "source": [
        "import pandas as pd\n",
        "\n",
        "# Load the data and create necessary columns\n",
        "a = pd.read_csv('/content/kellys_icecream_dataset.csv')\n",
        "a['discount_amount'] = 100 - a['amount'] # Assuming original price is 100 as in previous cells\n",
        "\n",
        "a[\"before_discount\"] = a[\"amount\"] + a[\"discount_amount\"]\n",
        "\n",
        "totals = a.groupby(\"customer_id\")[\"before_discount\"].sum()\n",
        "top_customer = totals.idxmax()\n",
        "top_amount = totals.max()\n",
        "\n",
        "print(f\"The customer highest total purchases before discounts is customer ID {top_customer} with a total amount of {top_amount}.\")"
      ]
    },
    {
      "cell_type": "markdown",
      "metadata": {
        "id": "nYU0_MC4dLJK"
      },
      "source": []
    }
  ],
  "metadata": {
    "colab": {
      "provenance": []
    },
    "kernelspec": {
      "display_name": "Python 3",
      "name": "python3"
    },
    "language_info": {
      "codemirror_mode": {
        "name": "ipython",
        "version": 3
      },
      "file_extension": ".py",
      "mimetype": "text/x-python",
      "name": "python",
      "nbconvert_exporter": "python",
      "pygments_lexer": "ipython3",
      "version": "3.12.0"
    }
  },
  "nbformat": 4,
  "nbformat_minor": 0
}
