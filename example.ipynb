{
 "cells": [
  {
   "cell_type": "code",
   "execution_count": 9,
   "id": "f6f2a28e",
   "metadata": {},
   "outputs": [
    {
     "name": "stdout",
     "output_type": "stream",
     "text": [
      "    customer_id  transaction_id  amount\n",
      "0          1001          339473      89\n",
      "1          1002          359433       5\n",
      "2          1003           43176      52\n",
      "3          1004           27169      19\n",
      "4          1001          530588       4\n",
      "..          ...             ...     ...\n",
      "95         1001          900073      19\n",
      "96         1005          900074      58\n",
      "97         1004          900075      65\n",
      "98         1005          900076      43\n",
      "99         1003          900077      45\n",
      "\n",
      "[100 rows x 3 columns]\n"
     ]
    }
   ],
   "source": [
    "\n",
    "import pandas as pd\n",
    "a=pd.read_csv('C:/Users/yuvas/Downloads/kellys_icecream_dataset (2).csv')\n",
    "print(a)"
   ]
  },
  {
   "cell_type": "code",
   "execution_count": null,
   "id": "0d0ac80e",
   "metadata": {},
   "outputs": [],
   "source": []
  }
 ],
 "metadata": {
  "kernelspec": {
   "display_name": "Python 3",
   "language": "python",
   "name": "python3"
  },
  "language_info": {
   "codemirror_mode": {
    "name": "ipython",
    "version": 3
   },
   "file_extension": ".py",
   "mimetype": "text/x-python",
   "name": "python",
   "nbconvert_exporter": "python",
   "pygments_lexer": "ipython3",
   "version": "3.12.0"
  }
 },
 "nbformat": 4,
 "nbformat_minor": 5
}
